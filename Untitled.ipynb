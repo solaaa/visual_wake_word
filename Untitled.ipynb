{
 "cells": [
  {
   "cell_type": "code",
   "execution_count": 53,
   "metadata": {},
   "outputs": [],
   "source": [
    "import numpy as np\n",
    "import pandas as pd\n",
    "import scipy.io as sio\n",
    "import matplotlib.pyplot as plt\n",
    "import sklearn"
   ]
  },
  {
   "cell_type": "code",
   "execution_count": 56,
   "metadata": {},
   "outputs": [],
   "source": [
    "path = r'RegressionTrain.csv'\n",
    "test_path =  r'RegressionTest.csv'\n",
    "df = pd.read_csv(path)\n",
    "df.head(5)\n",
    "df_test = pd.read_csv(test_path)"
   ]
  },
  {
   "cell_type": "markdown",
   "metadata": {},
   "source": [
    "### observe data "
   ]
  },
  {
   "cell_type": "code",
   "execution_count": 3,
   "metadata": {},
   "outputs": [
    {
     "name": "stdout",
     "output_type": "stream",
     "text": [
      "(1400,)\n",
      "16 3 5.622142857142857\n",
      "[  0.   0.   0.  20. 598.   1. 479.   0. 267.   0.  10.   0.  24.   0.\n",
      "   0.   0.   1.]\n"
     ]
    },
    {
     "data": {
      "text/plain": [
       "<BarContainer object of 17 artists>"
      ]
     },
     "execution_count": 3,
     "metadata": {},
     "output_type": "execute_result"
    },
    {
     "data": {
      "image/png": "[encoded data removed]",
      "text/plain": [
       "<Figure size 432x288 with 1 Axes>"
      ]
     },
     "metadata": {
      "needs_background": "light"
     },
     "output_type": "display_data"
    },
    {
     "data": {
      "image/png": "[encoded data removed]",
      "text/plain": [
       "<Figure size 432x288 with 1 Axes>"
      ]
     },
     "metadata": {
      "needs_background": "light"
     },
     "output_type": "display_data"
    }
   ],
   "source": [
    "Cylinders = df['No.Cylinders'].values\n",
    "print(Cylinders.shape)\n",
    "plt.figure(1)\n",
    "plt.boxplot(Cylinders)\n",
    "print(np.max(Cylinders),np.min(Cylinders),np.mean(Cylinders))\n",
    "\n",
    "\n",
    "count = np.zeros([17,])\n",
    "for i in range(len(Cylinders)):\n",
    "    count[int(Cylinders[i])] += 1\n",
    "print(count)\n",
    "plt.figure(2)\n",
    "plt.bar(np.linspace(0,16,17), count)"
   ]
  },
  {
   "cell_type": "code",
   "execution_count": 4,
   "metadata": {},
   "outputs": [
    {
     "name": "stdout",
     "output_type": "stream",
     "text": [
      "(1400,)\n",
      "10 1 6.974285714285714\n",
      "[  0.  58.   0.   0.   4.  30. 480. 221. 411. 135.  61.]\n"
     ]
    },
    {
     "data": {
      "text/plain": [
       "<BarContainer object of 11 artists>"
      ]
     },
     "execution_count": 4,
     "metadata": {},
     "output_type": "execute_result"
    },
    {
     "data": {
      "image/png": "[encoded data removed]",
      "text/plain": [
       "<Figure size 432x288 with 1 Axes>"
      ]
     },
     "metadata": {
      "needs_background": "light"
     },
     "output_type": "display_data"
    },
    {
     "data": {
      "image/png": "[encoded data removed]",
      "text/plain": [
       "<Figure size 432x288 with 1 Axes>"
      ]
     },
     "metadata": {
      "needs_background": "light"
     },
     "output_type": "display_data"
    }
   ],
   "source": [
    "NoGears = df['No.Gears'].values\n",
    "print(NoGears.shape)\n",
    "plt.figure(1)\n",
    "plt.boxplot(NoGears)\n",
    "print(np.max(NoGears),np.min(NoGears),np.mean(NoGears))\n",
    "\n",
    "\n",
    "count = np.zeros([11,])\n",
    "for i in range(len(NoGears)):\n",
    "    count[int(NoGears[i])] += 1\n",
    "print(count)\n",
    "plt.figure(2)\n",
    "plt.bar(np.linspace(0,10,11), count)"
   ]
  },
  {
   "cell_type": "code",
   "execution_count": 5,
   "metadata": {},
   "outputs": [
    {
     "name": "stdout",
     "output_type": "stream",
     "text": [
      "(1400,)\n",
      "85 10 15.107142857142858\n",
      "[  0.   0. 852. 485.   0.   0.   0.   0.   0.   0.   0.   0.   0.   0.\n",
      "   0.   0.   0.  63.   0.   0.]\n"
     ]
    },
    {
     "data": {
      "text/plain": [
       "<BarContainer object of 20 artists>"
      ]
     },
     "execution_count": 5,
     "metadata": {},
     "output_type": "execute_result"
    },
    {
     "data": {
      "image/png": "[encoded data removed]",
      "text/plain": [
       "<Figure size 432x288 with 1 Axes>"
      ]
     },
     "metadata": {
      "needs_background": "light"
     },
     "output_type": "display_data"
    },
    {
     "data": {
      "image/png": "[encoded data removed]",
      "text/plain": [
       "<Figure size 432x288 with 1 Axes>"
      ]
     },
     "metadata": {
      "needs_background": "light"
     },
     "output_type": "display_data"
    }
   ],
   "source": [
    "Ethanol = df['Max.Ethanol'].values\n",
    "print(Ethanol.shape)\n",
    "plt.figure(1)\n",
    "plt.boxplot(Ethanol)\n",
    "print(np.max(Ethanol),np.min(Ethanol),np.mean(Ethanol))\n",
    "\n",
    "\n",
    "count = np.zeros([20,])\n",
    "for i in range(len(Ethanol)):\n",
    "    idx = int(Ethanol[i]) // 5\n",
    "    count[idx] += 1\n",
    "print(count)\n",
    "plt.figure(2)\n",
    "plt.bar(np.linspace(5,100,20), count)"
   ]
  },
  {
   "cell_type": "code",
   "execution_count": 50,
   "metadata": {},
   "outputs": [],
   "source": [
    "def get_data(df):\n",
    "    feature_num = 8 # delete Model.Year\n",
    "    feature = np.zeros([df.shape[0], feature_num])\n",
    "    # 1 Eng.Displacement\n",
    "    tmp = df['Eng.Displacement'].values\n",
    "    tmp = (tmp-np.mean(tmp))/(np.std(tmp)+0.000001)\n",
    "    feature[:,0] = tmp\n",
    "    # 2 No.Cylinders\n",
    "    tmp = df['No.Cylinders'].values\n",
    "    tmp = (tmp-np.mean(tmp))/(np.std(tmp)+0.000001)\n",
    "    feature[:,1] = tmp\n",
    "\n",
    "    # 3 Aspiration\n",
    "    Aspiration = df['Aspiration'].values\n",
    "    tmp = [-1 if i == 'TC' else 1 for i in Aspiration]\n",
    "    feature[:,2] = tmp\n",
    "\n",
    "    # 4 No.Gears\n",
    "    tmp = df['No.Gears'].values\n",
    "    tmp = (tmp-np.mean(tmp))/(np.std(tmp)+0.000001)\n",
    "    feature[:,3] = tmp\n",
    "\n",
    "    # 5 Lockup.Torque.Converter\n",
    "    Converter = df['Lockup.Torque.Converter'].values\n",
    "    tmp = [-1 if i == 'N' else 1 for i in Converter]\n",
    "    feature[:,4] = tmp\n",
    "\n",
    "    # 6 Drive.Sys\n",
    "    Sys = df['Drive.Sys'].values\n",
    "    decode_map = {}\n",
    "    for i, key in enumerate(set(Sys)):\n",
    "        decode_map[key] = i\n",
    "    tmp = [decode_map[k] for k in Sys]\n",
    "    tmp = (tmp-np.mean(tmp))/(np.std(tmp)+0.000001)\n",
    "    feature[:,5] = tmp\n",
    "\n",
    "    # 7 Max.Ethanol\n",
    "    tmp = df['Max.Ethanol'].values\n",
    "    tmp = (tmp-np.mean(tmp))/(np.std(tmp)+0.000001)\n",
    "    feature[:,6] = tmp\n",
    "\n",
    "    # 8 Fuel.Type\n",
    "    Type = df['Fuel.Type'].values\n",
    "    decode_map = {}\n",
    "    for i, key in enumerate(set(Type)):\n",
    "        decode_map[key] = i\n",
    "    tmp = [decode_map[k] for k in Type]\n",
    "    tmp = (tmp-np.mean(tmp))/(np.std(tmp)+0.000001)\n",
    "    feature[:,7] = tmp\n",
    "    \n",
    "    return feature"
   ]
  },
  {
   "cell_type": "code",
   "execution_count": 57,
   "metadata": {},
   "outputs": [
    {
     "data": {
      "text/plain": [
       "(600, 8)"
      ]
     },
     "execution_count": 57,
     "metadata": {},
     "output_type": "execute_result"
    }
   ],
   "source": [
    "feature = get_data(df)\n",
    "# pred. value Comb.FE\n",
    "target = df['Comb.FE'].values\n",
    "\n",
    "# valid set\n",
    "feature_val = feature[-200:]\n",
    "target_val = target[-200:]\n",
    "\n",
    "feature_test = get_data(df_test)\n",
    "feature_test.shape"
   ]
  },
  {
   "cell_type": "code",
   "execution_count": 64,
   "metadata": {},
   "outputs": [
    {
     "data": {
      "text/plain": [
       "LinearRegression()"
      ]
     },
     "execution_count": 64,
     "metadata": {},
     "output_type": "execute_result"
    }
   ],
   "source": [
    "reg = sklearn.linear_model.LinearRegression()\n",
    "reg.fit(feature, target)"
   ]
  },
  {
   "cell_type": "code",
   "execution_count": 65,
   "metadata": {},
   "outputs": [
    {
     "data": {
      "text/plain": [
       "1.654714038322734"
      ]
     },
     "execution_count": 65,
     "metadata": {},
     "output_type": "execute_result"
    }
   ],
   "source": [
    "y_pred = reg.predict(feature_val)\n",
    "rmse = np.sqrt(np.mean(np.square(y_pred-target_val)))\n",
    "rmse"
   ]
  }
 ],
 "metadata": {
  "kernelspec": {
   "display_name": "Python 3",
   "language": "python",
   "name": "python3"
  },
  "language_info": {
   "codemirror_mode": {
    "name": "ipython",
    "version": 3
   },
   "file_extension": ".py",
   "mimetype": "text/x-python",
   "name": "python",
   "nbconvert_exporter": "python",
   "pygments_lexer": "ipython3",
   "version": "3.6.8"
  }
 },
 "nbformat": 4,
 "nbformat_minor": 4
}
